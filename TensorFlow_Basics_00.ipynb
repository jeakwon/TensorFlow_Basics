{
 "cells": [
  {
   "cell_type": "markdown",
   "metadata": {},
   "source": [
    "# TensorFlow_Basics_00"
   ]
  },
  {
   "cell_type": "code",
   "execution_count": 2,
   "metadata": {},
   "outputs": [],
   "source": [
    "import tensorflow as tf"
   ]
  },
  {
   "cell_type": "markdown",
   "metadata": {},
   "source": [
    "## Version check"
   ]
  },
  {
   "cell_type": "code",
   "execution_count": 3,
   "metadata": {},
   "outputs": [
    {
     "data": {
      "text/plain": [
       "'1.1.0'"
      ]
     },
     "execution_count": 3,
     "metadata": {},
     "output_type": "execute_result"
    }
   ],
   "source": [
    "tf.__version__"
   ]
  },
  {
   "cell_type": "markdown",
   "metadata": {},
   "source": [
    "## Create constant with text"
   ]
  },
  {
   "cell_type": "code",
   "execution_count": 4,
   "metadata": {},
   "outputs": [
    {
     "data": {
      "text/plain": [
       "b'Text display'"
      ]
     },
     "execution_count": 4,
     "metadata": {},
     "output_type": "execute_result"
    }
   ],
   "source": [
    "text = tf.constant(\"Text display\") # create tensorflow constant, also called as node\n",
    "sess = tf.Session() # create Session class\n",
    "sess.run(text) # \"text\" node go into \"run\" function of \"sess\" class object"
   ]
  },
  {
   "cell_type": "markdown",
   "metadata": {},
   "source": [
    "## Handling input data type"
   ]
  },
  {
   "cell_type": "code",
   "execution_count": 5,
   "metadata": {},
   "outputs": [],
   "source": [
    "a = tf.constant(3) # automatic int32\n",
    "b = tf.constant(3.0) # automatic float32\n",
    "c = tf.constant(2, tf.float32) # change int32 to float32"
   ]
  },
  {
   "cell_type": "code",
   "execution_count": 6,
   "metadata": {},
   "outputs": [
    {
     "name": "stdout",
     "output_type": "stream",
     "text": [
      "a: 3 Tensor(\"Const_1:0\", shape=(), dtype=int32)\n",
      "b: 3.0 Tensor(\"Const_2:0\", shape=(), dtype=float32)\n",
      "c: 2.0 Tensor(\"Const_3:0\", shape=(), dtype=float32)\n",
      "all: (3, 3.0, 2.0)\n"
     ]
    }
   ],
   "source": [
    "print(\"a:\", sess.run(a), a)\n",
    "print(\"b:\", sess.run(b), b)\n",
    "print(\"c:\", sess.run(c), c)\n",
    "print(\"all:\", sess.run((a,b,c)))"
   ]
  },
  {
   "cell_type": "markdown",
   "metadata": {},
   "source": [
    "## Simple math"
   ]
  },
  {
   "cell_type": "code",
   "execution_count": 7,
   "metadata": {},
   "outputs": [],
   "source": [
    "d = tf.add(b,c)\n",
    "e = tf.subtract(b,c)\n",
    "f = tf.multiply(b,c)\n",
    "g = tf.divide(b,c)"
   ]
  },
  {
   "cell_type": "code",
   "execution_count": 8,
   "metadata": {},
   "outputs": [
    {
     "name": "stdout",
     "output_type": "stream",
     "text": [
      "d (=b+c): 5.0 <dtype: 'float32'>\n",
      "e (=b-c): 1.0 <dtype: 'float32'>\n",
      "f (=b*c): 6.0 <dtype: 'float32'>\n",
      "g (=b/c): 1.5 <dtype: 'float32'>\n"
     ]
    }
   ],
   "source": [
    "print(\"d (=b+c):\", sess.run(d), d.dtype)\n",
    "print(\"e (=b-c):\", sess.run(e), e.dtype)\n",
    "print(\"f (=b*c):\", sess.run(f), f.dtype)\n",
    "print(\"g (=b/c):\", sess.run(g), g.dtype)"
   ]
  },
  {
   "cell_type": "markdown",
   "metadata": {},
   "source": [
    "### Placeholder"
   ]
  },
  {
   "cell_type": "code",
   "execution_count": 12,
   "metadata": {},
   "outputs": [],
   "source": [
    "h = tf.placeholder(tf.float32)\n",
    "i = tf.placeholder(tf.float32)\n",
    "adder_node = h + i"
   ]
  },
  {
   "cell_type": "code",
   "execution_count": 15,
   "metadata": {},
   "outputs": [
    {
     "name": "stdout",
     "output_type": "stream",
     "text": [
      "14.0\n",
      "[ 15.  19.]\n"
     ]
    }
   ],
   "source": [
    "print(sess.run(adder_node, feed_dict={h:6, i: 8}))\n",
    "print(sess.run(adder_node, feed_dict={h:[2,4], i: [13,15]}))"
   ]
  }
 ],
 "metadata": {
  "kernelspec": {
   "display_name": "Python 3",
   "language": "python",
   "name": "python3"
  },
  "language_info": {
   "codemirror_mode": {
    "name": "ipython",
    "version": 3
   },
   "file_extension": ".py",
   "mimetype": "text/x-python",
   "name": "python",
   "nbconvert_exporter": "python",
   "pygments_lexer": "ipython3",
   "version": "3.5.4"
  }
 },
 "nbformat": 4,
 "nbformat_minor": 2
}
